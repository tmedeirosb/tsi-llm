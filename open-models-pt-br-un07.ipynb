{
 "cells": [
  {
   "cell_type": "markdown",
   "metadata": {},
   "source": [
    "# Explorando modelos abertos em pt-br"
   ]
  },
  {
   "cell_type": "code",
   "execution_count": 12,
   "metadata": {},
   "outputs": [
    {
     "name": "stdout",
     "output_type": "stream",
     "text": [
      "Resposta do modelo: Olá!\n",
      "\n",
      "\"Potiguar\" é um termo em português que se refere ao povo e à cultura do estado do Rio Grande do Norte, localizado no norte do Brasil. O termo é uma forma de endereço geográfico que indica a origem ou pertenência de alguém.\n",
      "\n",
      "Por exemplo: \"Eu sou potiguar\" significa que você nasceu ou mora no estado do Rio Grande do Norte.\n"
     ]
    }
   ],
   "source": [
    "from langchain_ollama.llms import OllamaLLM\n",
    "\n",
    "# Passo 1: Configuração básica do Ollama\n",
    "# Certifique-se de ter o Ollama configurado e rodando localmente\n",
    "model = OllamaLLM(model=\"llama3.2:latest\")\n",
    "\n",
    "# Chamada ao modelo\n",
    "resposta = model.invoke(\"O que significa potiguar?\")\n",
    "print(f\"Resposta do modelo: {resposta}\")"
   ]
  },
  {
   "cell_type": "code",
   "execution_count": 16,
   "metadata": {},
   "outputs": [
    {
     "name": "stdout",
     "output_type": "stream",
     "text": [
      "Resposta do modelo: Potiguara é uma tribo indígena do Brasil, especificamente na região de Maranhão.Os potiguaras se auto-intitulam o povo dos filhos da terra e são conhecidos por sua rica cultura tradição, música e dança.Eles estão agora reconhecidas como um grupo indígena legalmente protegido pelo governo brasileiro.\n"
     ]
    }
   ],
   "source": [
    "#ollama run hf.co/felipe-carlos-ipms/phi-3-portuguese-tom-cat-4k-instruct-Q4_K_M-GGUF\n",
    "model = OllamaLLM(model=\"hf.co/felipe-carlos-ipms/phi-3-portuguese-tom-cat-4k-instruct-Q4_K_M-GGUF:latest\")\n",
    "\n",
    "# Chamada ao modelo\n",
    "resposta = model.invoke(\"O que significa potiguar?\")\n",
    "print(f\"Resposta do modelo: {resposta}\")"
   ]
  },
  {
   "cell_type": "code",
   "execution_count": 13,
   "metadata": {},
   "outputs": [
    {
     "name": "stdout",
     "output_type": "stream",
     "text": [
      "Resposta do modelo: Potiguar é um termo usado no Brasil e Portugal para se referir a uma pessoa que é fofa, divertida e muito social. É frequentemente usado para descrever alguém que é bem-humorado e popular entre seus amigos.\n"
     ]
    }
   ],
   "source": [
    "model = OllamaLLM(model=\"splitpierre/bode-alpaca-pt-br:13b-Q4_0\")\n",
    "\n",
    "# Chamada ao modelo\n",
    "resposta = model.invoke(\"O que significa potiguar?\")\n",
    "print(f\"Resposta do modelo: {resposta}\")"
   ]
  },
  {
   "cell_type": "code",
   "execution_count": 15,
   "metadata": {},
   "outputs": [
    {
     "name": "stdout",
     "output_type": "stream",
     "text": [
      "Resposta do modelo: QualPorQuando ÉOse Na.Resposta -'> você:in</ com</em.por \" O Respostava\"</: \"SResposta aa Qual é A você é a Você.Resposta: EuComResposta: pergunta-seendoVocêEuResposta: \"TomSQuais das opções são1. VocêDCom \"Resposta: \"T.\n",
      "ResResposta: Qual é \"*Qual das foi \"Qual é \"Qual dos papelinstruc>\"O pai \"O que você faz \"a resposta de uma partida Resposta:\n",
      "\n",
      "Resposta: \"ertítulo: \"Por favor, responda à seguinte pergunta, fornecendo uma citação dadaamada em que pode ser encontrada em um campo com uma série de ovel. Escreva a resposta da frase usando o código dado\"\n",
      "\n",
      "Resposta:</instruction: \"Qual é a sentença que consiste em uma frase de substantivo e um verbo?\"\n",
      "\n",
      "Dados: Resposta: \"Qual é a sentença que consiste em uma frase de substantivo e um verbo?\"\n",
      "Bodys: \"campo com várias linhas e uma série de árvores de outono\"\n",
      "\n",
      "Lote: \"onde o campo tem várias linhas e uma série de árvores de outono\"\n",
      "\n",
      "Resposta: \"O campo tem várias linhas e uma série de árvores de outono\".\n"
     ]
    }
   ],
   "source": [
    "# Passo 1: Configuração básica do Ollama\n",
    "model = OllamaLLM(model=\"hf.co/tensorblock/Tucano-2b4-Instruct-GGUF:latest\")\n",
    "\n",
    "# Chamada ao modelo\n",
    "resposta = model.invoke(\"O que significa potiguar?\")\n",
    "print(f\"Resposta do modelo: {resposta}\")"
   ]
  },
  {
   "cell_type": "code",
   "execution_count": null,
   "metadata": {},
   "outputs": [],
   "source": []
  }
 ],
 "metadata": {
  "kernelspec": {
   "display_name": "venv",
   "language": "python",
   "name": "python3"
  },
  "language_info": {
   "codemirror_mode": {
    "name": "ipython",
    "version": 3
   },
   "file_extension": ".py",
   "mimetype": "text/x-python",
   "name": "python",
   "nbconvert_exporter": "python",
   "pygments_lexer": "ipython3",
   "version": "3.12.6"
  }
 },
 "nbformat": 4,
 "nbformat_minor": 2
}
