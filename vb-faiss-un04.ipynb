{
 "cells": [
  {
   "cell_type": "markdown",
   "metadata": {},
   "source": [
    "# Explorando bases vetoriais"
   ]
  },
  {
   "cell_type": "code",
   "execution_count": 1,
   "metadata": {},
   "outputs": [],
   "source": [
    "from langchain.document_loaders import PyPDFLoader\n",
    "\n",
    "pdf_path = 'data/PPC_TSI_EaD.pdf'\n",
    "loader = PyPDFLoader(pdf_path)\n",
    "pages = loader.load_and_split()"
   ]
  },
  {
   "cell_type": "code",
   "execution_count": 2,
   "metadata": {},
   "outputs": [
    {
     "name": "stdout",
     "output_type": "stream",
     "text": [
      "page_content='Ministério da Educação\n",
      "Instituto Federal de Educação, Ciência e Tecnologia do Rio Grande do Norte\n",
      "DELIBERAÇÃO Nº 59/2022 - CONSEPEX/IFRN DELIBERAÇÃO Nº 59/2022 - CONSEPEX/IFRN   \n",
      "   21 de dezembro de 2022    21 de dezembro de 2022\n",
      "O PRESIDENTE DO CONSELHO DE ENSINO, PESQUISA E EXTE NSÃO DO INSTITUTO FEDERAL DE\n",
      "EDUCAÇÃO, CIÊNCIA E TECNOLOGIA DO RIO GRANDE DO NOR TE, faz saber que este Conselho, reunido\n",
      "extraordinariamente, de forma híbrida, em 18 de novembro de 2022, no uso das at ribuições que lhe confere o art. 13 do Estatuto do\n",
      "IFRN, e\n",
      "CONSIDERANDO\n",
      "o que consta nos Processos nºs.  \n",
      "23057.001221.2020-05, 23057.001222.2020-41, de 14 de fevereiro de 2020,\n",
      "D E L I B E R A:\n",
      "I – APROV AR, na forma dos anexos, para serem submetidos ao Conselho Superior, o Proje to Pedagógico e o Projeto de\n",
      "Autorização de Funcionamento do Curso Superior de Tecnologia em Sistemas para Internet, na modalidade a distancia, no Campus\n",
      "Natal-Zona Leste deste Instituto Federal.' metadata={'source': 'data/PPC_TSI_EaD.pdf', 'page': 0}\n"
     ]
    }
   ],
   "source": [
    "from langchain.text_splitter import RecursiveCharacterTextSplitter\n",
    "\n",
    "text_splitter = RecursiveCharacterTextSplitter(\n",
    "    #chunk_size=200,\n",
    "    chunk_size=1000,\n",
    "    chunk_overlap=50,\n",
    "    length_function=len,\n",
    ")\n",
    "\n",
    "texts = text_splitter.split_documents(pages)\n",
    "\n",
    "print(texts[0])"
   ]
  },
  {
   "cell_type": "code",
   "execution_count": 3,
   "metadata": {},
   "outputs": [
    {
     "name": "stdout",
     "output_type": "stream",
     "text": [
      "Quantidade de chunks: 623 \n"
     ]
    }
   ],
   "source": [
    "print (f\"Quantidade de chunks: {len(texts)} \")"
   ]
  },
  {
   "cell_type": "code",
   "execution_count": 4,
   "metadata": {},
   "outputs": [],
   "source": [
    "#!pip install faiss-cpu\n",
    "#pip install faiss-gpu"
   ]
  },
  {
   "cell_type": "code",
   "execution_count": 5,
   "metadata": {},
   "outputs": [
    {
     "name": "stderr",
     "output_type": "stream",
     "text": [
      "/var/folders/fh/g5fgxqq513n014czxdxy7sfc0000gn/T/ipykernel_84338/2162803906.py:4: LangChainDeprecationWarning: The class `OllamaEmbeddings` was deprecated in LangChain 0.3.1 and will be removed in 1.0.0. An updated version of the class exists in the :class:`~langchain-ollama package and should be used instead. To use it run `pip install -U :class:`~langchain-ollama` and import as `from :class:`~langchain_ollama import OllamaEmbeddings``.\n",
      "  db = FAISS.from_documents(texts,  OllamaEmbeddings(model=\"mxbai-embed-large\"))\n"
     ]
    }
   ],
   "source": [
    "from langchain_community.embeddings import OllamaEmbeddings\n",
    "from langchain.vectorstores import FAISS\n",
    "\n",
    "db = FAISS.from_documents(texts,  OllamaEmbeddings(model=\"mxbai-embed-large\"))"
   ]
  },
  {
   "cell_type": "code",
   "execution_count": 6,
   "metadata": {},
   "outputs": [
    {
     "name": "stdout",
     "output_type": "stream",
     "text": [
      "Curso Superior de Tecnologia em Sistemas para Internet, na modalidade a distância \n",
      "                                                                              IFRN, 2022  \n",
      " \n",
      "91 \n",
      " \n",
      "3. TAYLOR, A. G. SQL para leigos. 1. Ed. Rio de Janeiro: Starlin, 2016. \n",
      " \n",
      "Bibliografia Complementar \n",
      "1. DATE, C.J. Introdução a Sistemas de Banco de Dados. 1.Ed. Rio de Janeiro: Campus, 2004. \n",
      "2. HEUSER, CARLOS A. Projeto de Banco de Dados. 6.Ed. Porto Alegre: Bookman, 2009. \n",
      "3. DAMAS, L. SQL ʹ  Structure Query Language. 6. ed. Rio de Janeiro: LTC, 2007. \n",
      "4. FORTA, B. SQL in 10 Minutes. 4 Ed. Indianapolis: Sams, 2012. \n",
      "5. MYSQL. MySQL 8.0 Reference Manual. Disponível em: https://dev.mysql.com/doc/refman/8.0/en/. Acesso \n",
      "em 25 de junho de 2019. \n",
      " \n",
      "Software(s) de Apoio: \n",
      "● DBDesigner, brModelo; \n",
      "● Serviço MySQL, MySQL Workbench; \n",
      "● Serviço PostgreSQL, pgAdmin; \n",
      "● Serviço SQL Server, Microsoft SQL Server Express Edition. \n",
      "● Plataforma Moodle\n"
     ]
    }
   ],
   "source": [
    "query = \"Qual o nome do curso?\"\n",
    "docs = db.similarity_search(query)\n",
    "print(docs[0].page_content)"
   ]
  },
  {
   "cell_type": "code",
   "execution_count": 7,
   "metadata": {},
   "outputs": [
    {
     "name": "stdout",
     "output_type": "stream",
     "text": [
      "Chunk 1: Curso Superior de Tecnologia em Sistemas para Internet, na modalidade a distância \n",
      "                                                                              IFRN, 2022  \n",
      " \n",
      "91 \n",
      " \n",
      "3. TAYLOR, A. G. SQL para leigos. 1. Ed. Rio de Janeiro: Starlin, 2016. \n",
      " \n",
      "Bibliografia Complementar \n",
      "1. DATE, C.J. Introdução a Sistemas de Banco de Dados. 1.Ed. Rio de Janeiro: Campus, 2004. \n",
      "2. HEUSER, CARLOS A. Projeto de Banco de Dados. 6.Ed. Porto Alegre: Bookman, 2009. \n",
      "3. DAMAS, L. SQL ʹ  Structure Query Language. 6. ed. Rio de Janeiro: LTC, 2007. \n",
      "4. FORTA, B. SQL in 10 Minutes. 4 Ed. Indianapolis: Sams, 2012. \n",
      "5. MYSQL. MySQL 8.0 Reference Manual. Disponível em: https://dev.mysql.com/doc/refman/8.0/en/. Acesso \n",
      "em 25 de junho de 2019. \n",
      " \n",
      "Software(s) de Apoio: \n",
      "● DBDesigner, brModelo; \n",
      "● Serviço MySQL, MySQL Workbench; \n",
      "● Serviço PostgreSQL, pgAdmin; \n",
      "● Serviço SQL Server, Microsoft SQL Server Express Edition. \n",
      "● Plataforma Moodle\n",
      "Chunk 2: Curso Superior de Tecnologia em Sistemas para Internet, na modalidade a distância \n",
      "                                                                              IFRN, 2022  \n",
      " \n",
      "101 \n",
      " \n",
      "3. MYSQL. MySQL 8.0 Reference Manual. Disponível em: https://dev.mysql.com/doc/refman/8.0/en/. Acesso \n",
      "em 25 de junho de 2019. \n",
      "4. TAYLOR, A. G. SQL para leigos. 1. Ed. Rio de Janeiro: Starlin, 2016. \n",
      "5. MILANI, A. PostgreSQL - Guia do Programador. 1 Ed. São Paulo: Novatec, 2008. \n",
      " \n",
      "Software(s) de Apoio: \n",
      "● DBDesigner; \n",
      "● Serviço MySQL, MySQL Workbench; \n",
      "● Serviço PostgreSQL, pgAdmin; \n",
      "● Serviço SQL Server, Microsoft SQL Server Express Edition. \n",
      "● Plataforma Moodle\n",
      "Chunk 3: Curso Superior de Tecnologia em Sistemas para Internet, na modalidade a distância \n",
      "                                                                              IFRN, 2022  \n",
      " \n",
      "157 \n",
      " \n",
      "Bibliografia Complementar \n",
      "1. MICROSOFT. Documentação do SQL Server. Disponível em: https://docs.microsoft.com/pt-br/sql/sql-\n",
      "server/sql-server-technical-documentation. Acesso em 25 de junho de 2019. \n",
      "2. COMUNIDADE BRASILEIRA DE POSTGRESQL. Documentação. Disponível em: \n",
      "http://www.postgresql.org.br/pages/documentacao.html. Acesso em 25 de junho de 2019. \n",
      "3. MYSQL. MySQL 8.0 Reference Manual. Disponível em: https://dev.mysql.com/doc/refman/8.0/en/. Acesso \n",
      "em 25 de junho de 2019. \n",
      "4. MONGODB. The MongoDB 4.2 Manual. Disponível em: https://docs.mongodb.com/manual/. Acesso em 09 \n",
      "de setembro de 2019. \n",
      "5. FRITCHEY, G. SQL Server 2017 Query Performance Tuning: Troubleshoot and Optimize Query Performance. 5 \n",
      "Ed. New York: Apress, 2018. \n",
      " \n",
      "Software(s) de Apoio: \n",
      "● Serviço MySQL, MySQL Workbench;\n",
      "Chunk 4: Curso Superior de Tecnologia em Sistemas para Internet, na modalidade a distância \n",
      "                                                                              IFRN, 2022  \n",
      " \n",
      "100 \n",
      " \n",
      "Curso: Superior de Tecnologia em Sistemas para Internet \n",
      "Disciplina: Programação em Bancos de Dados Carga-Horária: 60h (80h/a) \n",
      "Pré-Requisito(s): Introdução à Lógica e Programação; Bancos de \n",
      "Dados Número de créditos: 4 \n",
      " \n",
      "EMENTA \n",
      "Consultas avançadas em linguagem de consulta estruturada (SQL); elementos que proporcionam me lhor \n",
      "performance do banco de dados tais como funções de usuários, visões, procedimentos armazenados, gatilhos e \n",
      "cursores; cópia e recuperação de dados; gerenciamento de transações. \n",
      " \n",
      "PROGRAMA \n",
      "Objetivos \n",
      "● Compreender e aplicar as técnicas de sistemas gerenciadores de banco de dados.  \n",
      " \n",
      "Bases Científico-Tecnológicas (Conteúdos) \n",
      "1. Backups e recoveries \n",
      "2. Consultas avançadas e subconsultas SQL \n",
      "3. Funções \n",
      "4. Visões \n",
      "5. Procedimentos armazenados \n",
      "6. Gatilhos \n",
      "7. Cursores\n",
      "Chunk 5: Curso Superior de Tecnologia em Sistemas para Internet, na modalidade a distância \n",
      "                                                                              IFRN, 2022  \n",
      " \n",
      "156 \n",
      " \n",
      "Curso: Superior de Tecnologia em Sistemas para Internet \n",
      "Disciplina: Tecnologias de Banco de Dados Carga-Horária: 60h (80h/a) \n",
      "Pré-Requisito(s): Bancos de Dados Número de créditos: 4 \n",
      " \n",
      "EMENTA \n",
      "Planejamento, instalação e administração de sistemas de gerenciamento de ban co de dados; estrutura de \n",
      "índices; replicação de dados; controle de acesso em sistemas de gerenciamento de banco de dados; cópia e \n",
      "restauração de dados; diagnóstico e solução de problemas; desempenho e otimização de consultas. \n",
      " \n",
      "PROGRAMA \n",
      "Objetivos \n",
      "● Compreender e aplicar as técnicas de sistemas gerenciadores de banco de dados;  \n",
      "● Bancos de Dados NoSQL. \n",
      " \n",
      "Bases Científico-Tecnológicas (Conteúdos) \n",
      "1. Visão geral da administração do sistema \n",
      "2. Planejamento e instalação de sistema. \n",
      "3. Backup e recuperação \n",
      "4. Estrutura de índices\n"
     ]
    }
   ],
   "source": [
    "# Perform similarity search to get the top 5 most relevant chunks (by similarity)\n",
    "docs = db.similarity_search(query, k=5)\n",
    "\n",
    "# Print the content of each of the top 5 chunks\n",
    "for i, doc in enumerate(docs):\n",
    "    print(f\"Chunk {i + 1}: {doc.page_content}\")"
   ]
  },
  {
   "cell_type": "markdown",
   "metadata": {},
   "source": [
    "# Explorando retriever"
   ]
  },
  {
   "cell_type": "code",
   "execution_count": 8,
   "metadata": {},
   "outputs": [],
   "source": [
    "from langchain_ollama.llms import OllamaLLM\n",
    "from langchain.chains import RetrievalQA\n",
    "\n",
    "# Create the LLM model and retriever\n",
    "model = OllamaLLM(model=\"llama3.2:latest\")\n",
    "\n",
    "# recuperando o retriever com 5 documentos\n",
    "retriever = db.as_retriever(search_kwargs={\"k\": 5})\n",
    "#retriever = db.as_retriever()\n",
    "\n",
    "# Create a RetrievalQA chain\n",
    "qa_chain = RetrievalQA.from_chain_type(llm=model, retriever=retriever, chain_type=\"stuff\")"
   ]
  },
  {
   "cell_type": "code",
   "execution_count": 9,
   "metadata": {},
   "outputs": [
    {
     "name": "stdout",
     "output_type": "stream",
     "text": [
      "QA Response: {'query': 'Qual o nome do curso?', 'result': 'O nome do curso é Superior de Tecnologia em Sistemas para Internet.'}\n"
     ]
    }
   ],
   "source": [
    "# Example usage of the RetrievalQA chain\n",
    "response = qa_chain.invoke(query)\n",
    "print(\"QA Response:\", response)"
   ]
  },
  {
   "cell_type": "code",
   "execution_count": null,
   "metadata": {},
   "outputs": [],
   "source": []
  }
 ],
 "metadata": {
  "kernelspec": {
   "display_name": "venv",
   "language": "python",
   "name": "python3"
  },
  "language_info": {
   "codemirror_mode": {
    "name": "ipython",
    "version": 3
   },
   "file_extension": ".py",
   "mimetype": "text/x-python",
   "name": "python",
   "nbconvert_exporter": "python",
   "pygments_lexer": "ipython3",
   "version": "3.12.6"
  }
 },
 "nbformat": 4,
 "nbformat_minor": 2
}
