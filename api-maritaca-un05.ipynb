{
 "cells": [
  {
   "cell_type": "markdown",
   "metadata": {},
   "source": [
    "# Usando API Maritaca"
   ]
  },
  {
   "cell_type": "code",
   "execution_count": 6,
   "metadata": {},
   "outputs": [
    {
     "name": "stdout",
     "output_type": "stream",
     "text": [
      "Resposta:  25 + 27 é igual a 52.\n"
     ]
    }
   ],
   "source": [
    "import settings\n",
    "import openai\n",
    "\n",
    "api_key = settings.MARITACA_KEY\n",
    "\n",
    "client = openai.OpenAI(\n",
    "    api_key=api_key,\n",
    "    base_url=\"https://chat.maritaca.ai/api\",\n",
    ")\n",
    "\n",
    "response = client.chat.completions.create(\n",
    "  model=\"sabia-3\",\n",
    "  messages=[\n",
    "    {\"role\": \"user\", \"content\": \"Quanto é 25 + 27?\"},\n",
    "  ],\n",
    "  max_tokens=8000\n",
    ")\n",
    "answer = response.choices[0].message.content\n",
    "\n",
    "print(f\"Resposta: {answer}\")   # Deve imprimir algo como \"25 + 27 é igual a 52.\""
   ]
  },
  {
   "cell_type": "markdown",
   "metadata": {},
   "source": []
  }
 ],
 "metadata": {
  "kernelspec": {
   "display_name": "venv",
   "language": "python",
   "name": "python3"
  },
  "language_info": {
   "codemirror_mode": {
    "name": "ipython",
    "version": 3
   },
   "file_extension": ".py",
   "mimetype": "text/x-python",
   "name": "python",
   "nbconvert_exporter": "python",
   "pygments_lexer": "ipython3",
   "version": "3.12.6"
  }
 },
 "nbformat": 4,
 "nbformat_minor": 2
}
