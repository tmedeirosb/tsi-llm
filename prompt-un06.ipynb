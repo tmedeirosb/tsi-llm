{
 "cells": [
  {
   "cell_type": "markdown",
   "metadata": {},
   "source": [
    "# Exemplo de uso de Prompt Template"
   ]
  },
  {
   "cell_type": "code",
   "execution_count": 1,
   "metadata": {},
   "outputs": [],
   "source": [
    "# Instalar a biblioteca langchain-ollama\n",
    "#!pip install -U langchain-ollama\n"
   ]
  },
  {
   "cell_type": "code",
   "execution_count": 2,
   "metadata": {},
   "outputs": [
    {
     "name": "stdout",
     "output_type": "stream",
     "text": [
      "Resposta do modelo: **Inteligência Artificial (IA): Entendendo o Conceito**\n",
      "\n",
      "A Inteligência Artificial (IA) é uma área da ciência e da engenharia que visa criar sistemas capazes de realizar tarefas que normalmente requerem inteligência humana. A IA se refere à criação de algoritmos, modelos e sistemas que podem processar e analisar grandes quantidades de dados para tomar decisões, reconhecer padrões e aprender a partir da experiência.\n",
      "\n",
      "**Características da IA**\n",
      "\n",
      "A IA é caracterizada por várias características importantes:\n",
      "\n",
      "*   **Processamento de Dados**: A IA envolve a criação de algoritmos que podem processar grandes quantidades de dados para extrair informações relevantes.\n",
      "*   **Algoritmos de Aprendizado**: A IA utiliza algoritmos de aprendizado automático, como o aprendizado supervisionado, não supervisionado e de reforço, para aprender a partir da experiência.\n",
      "*   **Reconhecimento de Padrões**: A IA é capaz de reconhecer padrões em dados, como imagens, sons e texto.\n",
      "*   **Linguagem Natural**: A IA pode entender e gerar linguagem natural (NLP), permitindo que os sistemas comecem a interagir com humanos.\n",
      "\n",
      "**Aplicações da IA**\n",
      "\n",
      "A IA tem uma ampla gama de aplicações em diversas áreas, incluindo:\n",
      "\n",
      "1.  **Vídeo Analise**\n",
      "2.  **Segurança**\n",
      "3.  **Saúde**\n",
      "4.  **Automação**\n",
      "5.  **Recursos Humanos**\n"
     ]
    }
   ],
   "source": [
    "from langchain_ollama.llms import OllamaLLM\n",
    "\n",
    "# Passo 1: Configuração básica do Ollama\n",
    "# Certifique-se de ter o Ollama configurado e rodando localmente\n",
    "model = OllamaLLM(model=\"llama3.2:latest\")\n",
    "\n",
    "# Chamada ao modelo\n",
    "resposta = model.invoke(\"O que é IA?\")\n",
    "print(f\"Resposta do modelo: {resposta}\")"
   ]
  },
  {
   "cell_type": "code",
   "execution_count": 3,
   "metadata": {},
   "outputs": [
    {
     "name": "stdout",
     "output_type": "stream",
     "text": [
      "Prompt gerado: \n",
      "Resuma o seguinte texto em português:\n",
      "\n",
      "Texto: \"A Inteligência Artificial tem transformado diversas áreas, incluindo saúde, educação e negócios.\"\n",
      "Resumo:\n",
      "\n",
      "Resposta do modelo: A Inteligência Artificial (IA) está revolucionando vários setores, como a saúde, a educação e o comércio. Ela trouxe inovações significativas, melhorando processos e resultados em diversas áreas.\n"
     ]
    }
   ],
   "source": [
    "from langchain import PromptTemplate\n",
    "\n",
    "# Passo 2: Exemplo básico com PromptTemplate\n",
    "# Criando um template de prompt para sumarização\n",
    "template = \"\"\"\n",
    "Resuma o seguinte texto em português:\n",
    "\n",
    "Texto: \"{texto}\"\n",
    "Resumo:\n",
    "\"\"\"\n",
    "\n",
    "prompt = PromptTemplate(input_variables=[\"texto\"], template=template)\n",
    "\n",
    "# Exemplo de entrada\n",
    "texto_exemplo = \"A Inteligência Artificial tem transformado diversas áreas, incluindo saúde, educação e negócios.\"\n",
    "\n",
    "# Gerando o prompt completo\n",
    "prompt_text = prompt.format(texto=texto_exemplo)\n",
    "print(f\"Prompt gerado: {prompt_text}\")\n",
    "\n",
    "# Chamada ao modelo\n",
    "resposta = model.invoke(prompt_text)\n",
    "print(f\"Resposta do modelo: {resposta}\")\n"
   ]
  },
  {
   "cell_type": "code",
   "execution_count": 4,
   "metadata": {},
   "outputs": [
    {
     "name": "stdout",
     "output_type": "stream",
     "text": [
      "Prompt gerado: Use os exemplos a seguir para resumir os textos.\n",
      "\n",
      "Texto: O sol é uma estrela localizada no centro do sistema solar.\n",
      "Resumo: O sol é uma estrela central do sistema solar.\n",
      "\n",
      "\n",
      "Texto: A Lua é o único satélite natural da Terra.\n",
      "Resumo: A Lua é o satélite natural da Terra.\n",
      "\n",
      "\n",
      "Texto: A inteligência artificial pode ajudar na análise de grandes volumes de dados de forma eficiente.\n",
      "Resumo:\n",
      "Resposta com Few-Shot: Claro, vou criar um resumo para o texto sobre inteligência artificial:\n",
      "\n",
      "A inteligência artificial pode ajudar na análise de grandes volumes de dados de forma eficiente.\n"
     ]
    }
   ],
   "source": [
    "from langchain import FewShotPromptTemplate\n",
    "\n",
    "# Passo 3: Uso de FewShotPromptTemplate\n",
    "# Adicionando exemplos para Few-Shot Learning\n",
    "exemplos = [\n",
    "    {\"texto\": \"O sol é uma estrela localizada no centro do sistema solar.\", \"resumo\": \"O sol é uma estrela central do sistema solar.\"},\n",
    "    {\"texto\": \"A Lua é o único satélite natural da Terra.\", \"resumo\": \"A Lua é o satélite natural da Terra.\"}\n",
    "]\n",
    "\n",
    "few_shot_prompt = FewShotPromptTemplate(\n",
    "    examples=exemplos,\n",
    "    example_prompt=PromptTemplate(input_variables=[\"texto\", \"resumo\"], template=\"Texto: {texto}\\nResumo: {resumo}\\n\"),\n",
    "    prefix=\"Use os exemplos a seguir para resumir os textos.\",\n",
    "    suffix=\"Texto: {texto}\\nResumo:\",\n",
    "    input_variables=[\"texto\"]\n",
    ")\n",
    "\n",
    "# Texto a ser resumido\n",
    "novo_texto = \"A inteligência artificial pode ajudar na análise de grandes volumes de dados de forma eficiente.\"\n",
    "prompt_text_fs = few_shot_prompt.format(texto=novo_texto)\n",
    "print(f\"Prompt gerado: {prompt_text_fs}\")\n",
    "\n",
    "# Chamada ao modelo\n",
    "resposta_fs = model.invoke(prompt_text_fs)\n",
    "print(f\"Resposta com Few-Shot: {resposta_fs}\")"
   ]
  },
  {
   "cell_type": "code",
   "execution_count": 7,
   "metadata": {},
   "outputs": [
    {
     "name": "stdout",
     "output_type": "stream",
     "text": [
      "Resposta da cadeia: Claro, vou criar um resumo para o texto sobre inteligência artificial:\n",
      "\n",
      "A inteligência artificial pode ajudar na análise de grandes volumes de dados de forma eficiente.\n"
     ]
    }
   ],
   "source": [
    "# Utilizando chain (|)\n",
    "chain = few_shot_prompt | model\n",
    "resposta_chain = chain.invoke({'texto': novo_texto})    \n",
    "print(f\"Resposta da cadeia: {resposta_fs}\")"
   ]
  },
  {
   "cell_type": "code",
   "execution_count": null,
   "metadata": {},
   "outputs": [],
   "source": []
  }
 ],
 "metadata": {
  "kernelspec": {
   "display_name": "venv",
   "language": "python",
   "name": "python3"
  },
  "language_info": {
   "codemirror_mode": {
    "name": "ipython",
    "version": 3
   },
   "file_extension": ".py",
   "mimetype": "text/x-python",
   "name": "python",
   "nbconvert_exporter": "python",
   "pygments_lexer": "ipython3",
   "version": "3.12.6"
  }
 },
 "nbformat": 4,
 "nbformat_minor": 2
}
