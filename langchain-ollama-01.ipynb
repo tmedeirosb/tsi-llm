{
 "cells": [
  {
   "cell_type": "code",
   "execution_count": 3,
   "metadata": {},
   "outputs": [],
   "source": [
    "#!pip install -U langchain-ollama"
   ]
  },
  {
   "cell_type": "code",
   "execution_count": 1,
   "metadata": {},
   "outputs": [
    {
     "data": {
      "text/plain": [
       "'LangChain!\\n\\nLangChain é uma biblioteca de código aberto escrita em Rust, projetada para conectar aplicativos de linguagem natural (NLP) e blockchain. Ela permite a integração de sistemas NLP com redes blockchain, criando uma plataforma para a criação de aplicações que utilizam inteligência artificial e tecnologia blockchain.\\n\\nLangChain fornece uma interface simplificada para trabalhar com NLP e blockchain, permitindo que os desenvolvedores criejam soluções inovadoras que combinem essas duas tecnologias. A biblioteca é composta por várias partes principais:\\n\\n1. **Interfaz de linguagem**: LangChain fornece uma interface de programação de aplicativos (API) para trabalhar com NLP, permitindo que os desenvolvedores se conectem a ferramentas e serviços de NLP.\\n2. **Blockchain integration**: A biblioteca inclui suporte para diferentes redes blockchain, permitindo que os desenvolvedores integrem as suas aplicações com blockchain.\\n3. **Tokenização de dados**: LangChain permite que os dados sejam tokenizados (transformados em unidades únicas) e armazenados na blockchain, garantindo a autenticidade e a segurança dos dados.\\n\\nO uso de LangChain pode ter várias vantagens, como:\\n\\n*   Inteligência artificial mais eficaz\\n*   Segurança e autenticidade de dados aumentadas\\n*   Oportunidades de criar soluções inovadoras que combinam NLP e blockchain\\n\\nEm resumo, LangChain é uma ferramenta poderosa para desenvolvedores que buscam combinar a inteligência artificial com a tecnologia blockchain.'"
      ]
     },
     "execution_count": 1,
     "metadata": {},
     "output_type": "execute_result"
    }
   ],
   "source": [
    "from langchain_core.prompts import ChatPromptTemplate\n",
    "from langchain_ollama.llms import OllamaLLM\n",
    "\n",
    "template = \"\"\"Questão: {question}\n",
    "\n",
    "Responda: .\"\"\"\n",
    "\n",
    "prompt = ChatPromptTemplate.from_template(template)\n",
    "\n",
    "model = OllamaLLM(model=\"llama3.2:latest\")\n",
    "\n",
    "chain = prompt | model\n",
    "\n",
    "chain.invoke({\"question\": \"O que é LangChain?\"})"
   ]
  },
  {
   "cell_type": "code",
   "execution_count": null,
   "metadata": {},
   "outputs": [],
   "source": []
  }
 ],
 "metadata": {
  "kernelspec": {
   "display_name": "venv",
   "language": "python",
   "name": "python3"
  },
  "language_info": {
   "codemirror_mode": {
    "name": "ipython",
    "version": 3
   },
   "file_extension": ".py",
   "mimetype": "text/x-python",
   "name": "python",
   "nbconvert_exporter": "python",
   "pygments_lexer": "ipython3",
   "version": "3.12.6"
  }
 },
 "nbformat": 4,
 "nbformat_minor": 2
}
