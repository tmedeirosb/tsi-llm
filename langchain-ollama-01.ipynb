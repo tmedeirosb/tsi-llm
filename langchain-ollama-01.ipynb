{
 "cells": [
  {
   "cell_type": "code",
   "execution_count": 3,
   "metadata": {},
   "outputs": [],
   "source": [
    "#!pip install -U langchain-ollama"
   ]
  },
  {
   "cell_type": "code",
   "execution_count": 2,
   "metadata": {},
   "outputs": [
    {
     "data": {
      "text/plain": [
       "'LangChain!\\n\\nLangChain é uma biblioteca de software desenvolvida na Universidade Carnegie Mellon, em Pittsburgh, Estados Unidos. Foi criada pela equipe liderada por Matei Zaharia, um professor e pesquisador renomado no campo de aprendizado de máquina.\\n\\nO objetivo principal do LangChain é fornecer uma abordagem modular e escalável para o desenvolvimento de modelos de aprendizado de máquina que processam grandes volumes de dados em tempo real. Isso é alcançado através da criação de um framework flexível e personalizável, que permite aos usuários construir modelos personalizados usando uma variedade de técnicas e arquiteturas.\\n\\nAlgumas das características principais do LangChain incluem:\\n\\n1. **Modularidade**: O framework é projetado para ser modular, o que significa que os desenvolvedores podem criar e combinar diferentes componentes para atender às suas necessidades específicas.\\n2. **Escalabilidade**: LangChain está otimizado para processar grandes volumes de dados em tempo real, tornando-o uma escolha popular para aplicações que requerem alta performance.\\n3. **Flexibilidade**: O framework suporta uma variedade de técnicas e arquiteturas, permitindo aos usuários escolher a abordagem mais adequada para suas necessidades específicas.\\n\\nAlgumas das aplicações onde LangChain é frequentemente usado incluem:\\n\\n1. **Aprendizado de máquina em tempo real**: LangChain pode ser usado para desenvolver modelos que processam grandes volumes de dados em tempo real, como em aplicativos de reconhecimento de voz, detecção de imagens e mais.\\n2. **Processamento de grandes conjuntos de dados**: O framework é projetado para lidar com grandes conjuntos de dados, tornando-o uma escolha popular para aplicações que requiram processamento de grandes volumes de dados.\\n3. **Desenvolvimento de sistemas de recomendação**: LangChain pode ser usado para desenvolver modelos de recomendação que são personalizados e eficazes.\\n\\nEm resumo, o LangChain é uma biblioteca de software poderosa que oferece uma abordagem flexível e escalável para o desenvolvimento de modelos de aprendizado de máquina. Sua modularidade, escalabilidade e flexibilidade tornam-o uma escolha popular entre os pesquisadores e desenvolvedores de sistemas de IA.'"
      ]
     },
     "execution_count": 2,
     "metadata": {},
     "output_type": "execute_result"
    }
   ],
   "source": [
    "from langchain_core.prompts import ChatPromptTemplate\n",
    "from langchain_ollama.llms import OllamaLLM\n",
    "\n",
    "template = \"\"\"Questão: {question}\n",
    "\n",
    "Responda: .\"\"\"\n",
    "\n",
    "prompt = ChatPromptTemplate.from_template(template)\n",
    "\n",
    "model = OllamaLLM(model=\"llama3.2:latest\")\n",
    "\n",
    "chain = prompt | model\n",
    "\n",
    "chain.invoke({\"question\": \"O que é LangChain?\"})"
   ]
  },
  {
   "cell_type": "code",
   "execution_count": null,
   "metadata": {},
   "outputs": [],
   "source": []
  }
 ],
 "metadata": {
  "kernelspec": {
   "display_name": "venv",
   "language": "python",
   "name": "python3"
  },
  "language_info": {
   "codemirror_mode": {
    "name": "ipython",
    "version": 3
   },
   "file_extension": ".py",
   "mimetype": "text/x-python",
   "name": "python",
   "nbconvert_exporter": "python",
   "pygments_lexer": "ipython3",
   "version": "3.12.6"
  }
 },
 "nbformat": 4,
 "nbformat_minor": 2
}
