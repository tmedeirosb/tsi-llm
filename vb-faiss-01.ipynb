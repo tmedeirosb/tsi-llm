{
 "cells": [
  {
   "cell_type": "markdown",
   "metadata": {},
   "source": [
    "# Explorando bases vetoriais"
   ]
  },
  {
   "cell_type": "code",
   "execution_count": 1,
   "metadata": {},
   "outputs": [],
   "source": [
    "from langchain.document_loaders import PyPDFLoader\n",
    "\n",
    "pdf_path = 'data/PPC_TSI_EaD.pdf'\n",
    "loader = PyPDFLoader(pdf_path)\n",
    "pages = loader.load_and_split()"
   ]
  },
  {
   "cell_type": "code",
   "execution_count": null,
   "metadata": {},
   "outputs": [
    {
     "name": "stdout",
     "output_type": "stream",
     "text": [
      "page_content='Ministério da Educação\n",
      "Instituto Federal de Educação, Ciência e Tecnologia do Rio Grande do Norte\n",
      "DELIBERAÇÃO Nº 59/2022 - CONSEPEX/IFRN DELIBERAÇÃO Nº 59/2022 - CONSEPEX/IFRN' metadata={'source': 'data/PPC_TSI_EaD.pdf', 'page': 0}\n"
     ]
    }
   ],
   "source": [
    "from langchain.text_splitter import RecursiveCharacterTextSplitter\n",
    "\n",
    "text_splitter = RecursiveCharacterTextSplitter(\n",
    "    #chunk_size=200,\n",
    "    chunk_size=1000,\n",
    "    chunk_overlap=50,\n",
    "    length_function=len,\n",
    ")\n",
    "\n",
    "texts = text_splitter.split_documents(pages)\n",
    "\n",
    "print(texts[0])"
   ]
  },
  {
   "cell_type": "code",
   "execution_count": 3,
   "metadata": {},
   "outputs": [
    {
     "name": "stdout",
     "output_type": "stream",
     "text": [
      "Quantidade de chunks: 3183 \n"
     ]
    }
   ],
   "source": [
    "print (f\"Quantidade de chunks: {len(texts)} \")"
   ]
  },
  {
   "cell_type": "code",
   "execution_count": 4,
   "metadata": {},
   "outputs": [],
   "source": [
    "#!pip install faiss-cpu\n",
    "#pip install faiss-gpu"
   ]
  },
  {
   "cell_type": "code",
   "execution_count": null,
   "metadata": {},
   "outputs": [
    {
     "name": "stderr",
     "output_type": "stream",
     "text": [
      "/var/folders/fh/g5fgxqq513n014czxdxy7sfc0000gn/T/ipykernel_82879/4139363345.py:4: LangChainDeprecationWarning: The class `OllamaEmbeddings` was deprecated in LangChain 0.3.1 and will be removed in 1.0.0. An updated version of the class exists in the :class:`~langchain-ollama package and should be used instead. To use it run `pip install -U :class:`~langchain-ollama` and import as `from :class:`~langchain_ollama import OllamaEmbeddings``.\n",
      "  db = FAISS.from_documents(texts,  OllamaEmbeddings(model=\"mxbai-embed-large\"))\n"
     ]
    },
    {
     "name": "stdout",
     "output_type": "stream",
     "text": [
      "disciplinas do curso.\n"
     ]
    }
   ],
   "source": [
    "from langchain_community.embeddings import OllamaEmbeddings\n",
    "from langchain.vectorstores import FAISS\n",
    "\n",
    "db = FAISS.from_documents(texts,  OllamaEmbeddings(model=\"mxbai-embed-large\"))"
   ]
  },
  {
   "cell_type": "code",
   "execution_count": 16,
   "metadata": {},
   "outputs": [
    {
     "name": "stdout",
     "output_type": "stream",
     "text": [
      "4 \n",
      "SUMÁRIO \n",
      " \n",
      " \n",
      "1. IDENTIFICAÇÃO DO CURSO 5  \n",
      "2. DADOS DO COORDENADOR DO CURSO 5  \n",
      "3. DESCRIÇÃO DA OFERTA 5  \n",
      "4. JUSTIFICATIVA DA OFERTA PARA DESENVOLVIMENTO LOCAL 5  \n",
      "5. APOIO AO DISCENTE 7\n"
     ]
    }
   ],
   "source": [
    "query = \"Qual o nome do curso?\"\n",
    "docs = db.similarity_search(query)\n",
    "print(docs[0].page_content)"
   ]
  },
  {
   "cell_type": "code",
   "execution_count": 17,
   "metadata": {},
   "outputs": [
    {
     "name": "stdout",
     "output_type": "stream",
     "text": [
      "Chunk 1: 4 \n",
      "SUMÁRIO \n",
      " \n",
      " \n",
      "1. IDENTIFICAÇÃO DO CURSO 5  \n",
      "2. DADOS DO COORDENADOR DO CURSO 5  \n",
      "3. DESCRIÇÃO DA OFERTA 5  \n",
      "4. JUSTIFICATIVA DA OFERTA PARA DESENVOLVIMENTO LOCAL 5  \n",
      "5. APOIO AO DISCENTE 7\n",
      "Chunk 2: EMENTA \n",
      "Consultas avançadas em linguagem de consulta estruturada (SQL); elementos que proporcionam me lhor\n",
      "Chunk 3: A denominação do curso está adequada ao Catálogo Nacional dos \n",
      "Cursos Superiores de Tecnologia? \n",
      "NSA para demais cursos \n",
      "SIM\n",
      "Chunk 4: disponíveis na biblioteca para funcionamento do curso por disciplina.\n",
      "Chunk 5: g) Acervo para o funcionamento do curso: Os dados relativos a descrição e quan titativo de \n",
      "títulos da bibliografia básica, complementar que estão disponíveis na biblioteca par a\n"
     ]
    }
   ],
   "source": [
    "# Perform similarity search to get the top 5 most relevant chunks (by similarity)\n",
    "docs = db.similarity_search(query, k=5)\n",
    "\n",
    "# Print the content of each of the top 5 chunks\n",
    "for i, doc in enumerate(docs):\n",
    "    print(f\"Chunk {i + 1}: {doc.page_content}\")"
   ]
  },
  {
   "cell_type": "markdown",
   "metadata": {},
   "source": [
    "# Explorando retriever"
   ]
  },
  {
   "cell_type": "code",
   "execution_count": 18,
   "metadata": {},
   "outputs": [],
   "source": [
    "from langchain_ollama.llms import OllamaLLM\n",
    "from langchain.chains import RetrievalQA\n",
    "\n",
    "# Create the LLM model and retriever\n",
    "model = OllamaLLM(model=\"llama3.2:latest\")\n",
    "retriever = db.as_retriever()\n",
    "\n",
    "# Create a RetrievalQA chain\n",
    "qa_chain = RetrievalQA.from_chain_type(llm=model, retriever=retriever, chain_type=\"stuff\")"
   ]
  },
  {
   "cell_type": "code",
   "execution_count": 19,
   "metadata": {},
   "outputs": [
    {
     "name": "stdout",
     "output_type": "stream",
     "text": [
      "QA Response: {'query': 'Qual o nome do curso?', 'result': 'Não sei qual é o nome do curso.'}\n"
     ]
    }
   ],
   "source": [
    "# Example usage of the RetrievalQA chain\n",
    "response = qa_chain.invoke(query)\n",
    "print(\"QA Response:\", response)"
   ]
  },
  {
   "cell_type": "code",
   "execution_count": null,
   "metadata": {},
   "outputs": [],
   "source": []
  }
 ],
 "metadata": {
  "kernelspec": {
   "display_name": "venv",
   "language": "python",
   "name": "python3"
  },
  "language_info": {
   "codemirror_mode": {
    "name": "ipython",
    "version": 3
   },
   "file_extension": ".py",
   "mimetype": "text/x-python",
   "name": "python",
   "nbconvert_exporter": "python",
   "pygments_lexer": "ipython3",
   "version": "3.12.6"
  }
 },
 "nbformat": 4,
 "nbformat_minor": 2
}
