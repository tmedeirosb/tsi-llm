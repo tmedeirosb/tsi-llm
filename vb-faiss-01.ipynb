{
 "cells": [
  {
   "cell_type": "markdown",
   "metadata": {},
   "source": [
    "# Explorando bases vetoriais"
   ]
  },
  {
   "cell_type": "code",
   "execution_count": 1,
   "metadata": {},
   "outputs": [],
   "source": [
    "from langchain.document_loaders import PyPDFLoader\n",
    "\n",
    "pdf_path = 'data/PPC_TSI_EaD.pdf'\n",
    "loader = PyPDFLoader(pdf_path)\n",
    "pages = loader.load_and_split()"
   ]
  },
  {
   "cell_type": "code",
   "execution_count": 2,
   "metadata": {},
   "outputs": [
    {
     "name": "stdout",
     "output_type": "stream",
     "text": [
      "page_content='Ministério da Educação\n",
      "Instituto Federal de Educação, Ciência e Tecnologia do Rio Grande do Norte\n",
      "DELIBERAÇÃO Nº 59/2022 - CONSEPEX/IFRN DELIBERAÇÃO Nº 59/2022 - CONSEPEX/IFRN' metadata={'source': 'data/PPC_TSI_EaD.pdf', 'page': 0}\n"
     ]
    }
   ],
   "source": [
    "from langchain.text_splitter import RecursiveCharacterTextSplitter\n",
    "\n",
    "text_splitter = RecursiveCharacterTextSplitter(\n",
    "    chunk_size=200,\n",
    "    chunk_overlap=20,\n",
    "    length_function=len,\n",
    ")\n",
    "\n",
    "texts = text_splitter.split_documents(pages)\n",
    "\n",
    "print(texts[0])"
   ]
  },
  {
   "cell_type": "code",
   "execution_count": 3,
   "metadata": {},
   "outputs": [
    {
     "name": "stdout",
     "output_type": "stream",
     "text": [
      "Quantidade de chunks: 3183 \n"
     ]
    }
   ],
   "source": [
    "print (f\"Quantidade de chunks: {len(texts)} \")"
   ]
  },
  {
   "cell_type": "code",
   "execution_count": 8,
   "metadata": {},
   "outputs": [],
   "source": [
    "#!pip install faiss-cpu\n",
    "#pip install faiss-gpu\n"
   ]
  },
  {
   "cell_type": "code",
   "execution_count": 6,
   "metadata": {},
   "outputs": [
    {
     "name": "stdout",
     "output_type": "stream",
     "text": [
      "disciplinas do curso.\n"
     ]
    }
   ],
   "source": [
    "from langchain_community.embeddings import OllamaEmbeddings\n",
    "from langchain.vectorstores import FAISS\n",
    "\n",
    "db = FAISS.from_documents(texts,  OllamaEmbeddings(model=\"mxbai-embed-large\"))\n",
    "query = \"Quais são as disciplinas do curso?\"\n",
    "docs = db.similarity_search(query)\n",
    "print(docs[0].page_content)"
   ]
  },
  {
   "cell_type": "code",
   "execution_count": 7,
   "metadata": {},
   "outputs": [
    {
     "name": "stdout",
     "output_type": "stream",
     "text": [
      "Chunk 1: disciplinas do curso.\n",
      "Chunk 2: funcionamento do curso por disciplina, estão expostos em tabelas e apresentados nos  \n",
      "Quadro 17 e 18 (Anexo A).\n",
      "Chunk 3: disciplina. \n",
      " Os aspectos operacionais relativos ao aproveitamento de estudos e à certificação d e \n",
      "conhecimentos, adquiridos através de experiências vivenciadas previamente ao iní cio do curso,\n",
      "Chunk 4: necessários ao funcionamento do Curso, tomando por base o desenvolvimento simultâneo de \n",
      "uma turma para cada período do curso, correspondente ao Quadro 1.\n",
      "Chunk 5: a) Coordenador de Curso, como Presidente;  \n",
      "b) todos os docentes em exercício nas atividades de ensino, de pesquisa ou de extensão no Curso \n",
      "ou que tenham atuado nos dois últimos semestres letivos;\n"
     ]
    }
   ],
   "source": [
    "# Perform similarity search to get the top 5 most relevant chunks (by similarity)\n",
    "docs = db.similarity_search(query, k=5)\n",
    "\n",
    "# Print the content of each of the top 5 chunks\n",
    "for i, doc in enumerate(docs):\n",
    "    print(f\"Chunk {i + 1}: {doc.page_content}\")"
   ]
  },
  {
   "cell_type": "code",
   "execution_count": null,
   "metadata": {},
   "outputs": [],
   "source": []
  }
 ],
 "metadata": {
  "kernelspec": {
   "display_name": "venv",
   "language": "python",
   "name": "python3"
  },
  "language_info": {
   "codemirror_mode": {
    "name": "ipython",
    "version": 3
   },
   "file_extension": ".py",
   "mimetype": "text/x-python",
   "name": "python",
   "nbconvert_exporter": "python",
   "pygments_lexer": "ipython3",
   "version": "3.12.6"
  }
 },
 "nbformat": 4,
 "nbformat_minor": 2
}
