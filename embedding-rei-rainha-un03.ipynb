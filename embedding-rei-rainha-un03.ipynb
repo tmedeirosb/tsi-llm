{
 "cells": [
  {
   "cell_type": "markdown",
   "metadata": {},
   "source": [
    "# Exemplo de cálculo de embeddings Rei e Rainha"
   ]
  },
  {
   "cell_type": "code",
   "execution_count": null,
   "metadata": {},
   "outputs": [],
   "source": [
    "#!pip install gensim"
   ]
  },
  {
   "cell_type": "code",
   "execution_count": 26,
   "metadata": {},
   "outputs": [
    {
     "name": "stdout",
     "output_type": "stream",
     "text": [
      "Palavras encontradas para a expressão 'Rei - Homem + Mulher':\n",
      "queen: 0.7118192911148071\n",
      "monarch: 0.6189674735069275\n",
      "princess: 0.5902431011199951\n",
      "crown_prince: 0.5499460697174072\n",
      "prince: 0.5377321243286133\n"
     ]
    }
   ],
   "source": [
    "import gensim.downloader as api\n",
    "\n",
    "# Carregar o modelo de Word2Vec pré-treinado\n",
    "model = api.load(\"word2vec-google-news-300\")  # Modelo com maior capacidade para capturar relações semânticas complexas\n",
    "\n",
    "# Realizar a operação correta usando palavras positivas e negativas\n",
    "resultado = model.most_similar(positive=['woman', 'king'], negative=['man'], topn=5)\n",
    "\n",
    "# Imprimir resultados\n",
    "print(\"Palavras encontradas para a expressão 'Rei - Homem + Mulher':\")\n",
    "for palavra, similaridade in resultado:\n",
    "    print(f\"{palavra}: {similaridade}\")"
   ]
  },
  {
   "cell_type": "code",
   "execution_count": 34,
   "metadata": {},
   "outputs": [
    {
     "name": "stdout",
     "output_type": "stream",
     "text": [
      "\n",
      "Palavras encontradas para a expressão '(França - Paris) + Londres':\n",
      "england: 0.5836853384971619\n",
      "europe: 0.5529575347900391\n",
      "birmingham: 0.5180004835128784\n",
      "european: 0.5125302076339722\n",
      "newcastle: 0.5107192993164062\n"
     ]
    }
   ],
   "source": [
    "resultado_pais = model.most_similar(positive=['france', 'london'], negative=['paris'], topn=5)\n",
    "\n",
    "# Imprimir resultados\n",
    "print(\"\\nPalavras encontradas para a expressão '(França - Paris) + Londres':\")\n",
    "for palavra, similaridade in resultado_pais:\n",
    "    print(f\"{palavra}: {similaridade}\")\n",
    "\n"
   ]
  },
  {
   "cell_type": "code",
   "execution_count": null,
   "metadata": {},
   "outputs": [],
   "source": []
  }
 ],
 "metadata": {
  "kernelspec": {
   "display_name": "venv",
   "language": "python",
   "name": "python3"
  },
  "language_info": {
   "codemirror_mode": {
    "name": "ipython",
    "version": 3
   },
   "file_extension": ".py",
   "mimetype": "text/x-python",
   "name": "python",
   "nbconvert_exporter": "python",
   "pygments_lexer": "ipython3",
   "version": "3.12.6"
  }
 },
 "nbformat": 4,
 "nbformat_minor": 2
}
