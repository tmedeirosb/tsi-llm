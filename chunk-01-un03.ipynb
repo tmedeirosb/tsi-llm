{
 "cells": [
  {
   "cell_type": "markdown",
   "metadata": {},
   "source": [
    "# Manipulando Chunks"
   ]
  },
  {
   "cell_type": "code",
   "execution_count": 3,
   "metadata": {},
   "outputs": [],
   "source": [
    "#!pip install pypdf"
   ]
  },
  {
   "cell_type": "code",
   "execution_count": 4,
   "metadata": {},
   "outputs": [],
   "source": [
    "from langchain.document_loaders import PyPDFLoader\n",
    "\n",
    "pdf_path = 'data/PPC_TSI_EaD.pdf'\n",
    "loader = PyPDFLoader(pdf_path)\n",
    "pages = loader.load_and_split()"
   ]
  },
  {
   "cell_type": "code",
   "execution_count": 10,
   "metadata": {},
   "outputs": [
    {
     "name": "stdout",
     "output_type": "stream",
     "text": [
      "page_content='Ministério da Educação\n",
      "Instituto Federal de Educação, Ciência e Tecnologia do Rio Grande do Norte\n",
      "DELIBERAÇÃO Nº 59/2022 - CONSEPEX/IFRN DELIBERAÇÃO Nº 59/2022 - CONSEPEX/IFRN   \n",
      "   21 de dezembro de 2022    21 de dezembro de 2022\n",
      "O PRESIDENTE DO CONSELHO DE ENSINO, PESQUISA E EXTE NSÃO DO INSTITUTO FEDERAL DE\n",
      "EDUCAÇÃO, CIÊNCIA E TECNOLOGIA DO RIO GRANDE DO NOR TE, faz saber que este Conselho, reunido\n",
      "extraordinariamente, de forma híbrida, em 18 de novembro de 2022, no uso das at ribuições que lhe confere o art. 13 do Estatuto do\n",
      "IFRN, e\n",
      "CONSIDERANDO\n",
      "o que consta nos Processos nºs.  \n",
      "23057.001221.2020-05, 23057.001222.2020-41, de 14 de fevereiro de 2020,\n",
      "D E L I B E R A:\n",
      "I – APROV AR, na forma dos anexos, para serem submetidos ao Conselho Superior, o Proje to Pedagógico e o Projeto de\n",
      "Autorização de Funcionamento do Curso Superior de Tecnologia em Sistemas para Internet, na modalidade a distancia, no Campus\n",
      "Natal-Zona Leste deste Instituto Federal.\n",
      "II – PROPOR ao Conselho Superior a criação do curso no âmbito do IFRN e a autorizaçã o do funcionamento no  Campus Natal-\n",
      "Zona Leste, a partir do primeiro semestre letivo de 2023.1.\n",
      "JOSÉ ARNÓBIO DE ARAÚJO FILHO\n",
      "Presidente\n",
      "(Decreto Presidencial, de 24/08/2021, publicada no DOU de 25/08/2021)\n",
      "Documentos Anexados: Documentos Anexados:\n",
      "Anexo #1. Anexo #1. Projeto Pedagógico do Curso Superior de Tecnologia em Sistemas para Internet A distância - EaD (anexado em\n",
      "21/12/2022 15:17:47)\n",
      "Anexo #2. Anexo #2. Projeto de Autorização de Funcionamento do Curso Superior de Tecnologia em Sistemas para Internet na modalidade a\n",
      "distância (anexado em 21/12/2022 15:18:42)' metadata={'source': 'data/PPC_TSI_EaD.pdf', 'page': 0}\n"
     ]
    }
   ],
   "source": [
    "from langchain.text_splitter import CharacterTextSplitter\n",
    "text_splitter = CharacterTextSplitter(chunk_size=1000, chunk_overlap=20)\n",
    "texts = text_splitter.split_documents(pages)\n",
    "\n",
    "print(texts[0])"
   ]
  },
  {
   "cell_type": "code",
   "execution_count": 11,
   "metadata": {},
   "outputs": [
    {
     "name": "stdout",
     "output_type": "stream",
     "text": [
      "Quantidade de chunks: 226 \n",
      "Preview:\n",
      "Ministério da Educação\n",
      "Instituto Federal de Educação, Ciência e Tecnologia do Rio Grande do Norte\n",
      "DELIBERAÇÃO Nº 59/2022 - CONSEPEX/IFRN DELIBERAÇÃO Nº 59/2022 - CONSEPEX/IFRN   \n",
      "   21 de dezembro de 2022    21 de dezembro de 2022\n",
      "O PRESIDENTE DO CONSELHO DE ENSINO, PESQUISA E EXTE NSÃO DO INSTITUTO FEDERAL DE\n",
      "EDUCAÇÃO, CIÊNCIA E TECNOLOGIA DO RIO GRANDE DO NOR TE, faz saber que este Conselho, reunido\n",
      "extraordinariamente, de forma híbrida, em 18 de novembro de 2022, no uso das at ribuições que lhe confere o art. 13 do Estatuto do\n",
      "IFRN, e\n",
      "CONSIDERANDO\n",
      "o que consta nos Processos nºs.  \n",
      "23057.001221.2020-05, 23057.001222.2020-41, de 14 de fevereiro de 2020,\n",
      "D E L I B E R A:\n",
      "I – APROV AR, na forma dos anexos, para serem submetidos ao Conselho Superior, o Proje to Pedagógico e o Projeto de\n",
      "Autorização de Funcionamento do Curso Superior de Tecnologia em Sistemas para Internet, na modalidade a distancia, no Campus\n",
      "Natal-Zona Leste deste Instituto Federal.\n",
      "II – PROPOR ao Conselho Superior a criação do curso no âmbito do IFRN e a autorizaçã o do funcionamento no  Campus Natal-\n",
      "Zona Leste, a partir do primeiro semestre letivo de 2023.1.\n",
      "JOSÉ ARNÓBIO DE ARAÚJO FILHO\n",
      "Presidente\n",
      "(Decreto Presidencial, de 24/08/2021, publicada no DOU de 25/08/2021)\n",
      "Documentos Anexados: Documentos Anexados:\n",
      "Anexo #1. Anexo #1. Projeto Pedagógico do Curso Superior de Tecnologia em Sistemas para Internet A distância - EaD (anexado em\n",
      "21/12/2022 15:17:47)\n",
      "Anexo #2. Anexo #2. Projeto de Autorização de Funcionamento do Curso Superior de Tecnologia em Sistemas para Internet na modalidade a\n",
      "distância (anexado em 21/12/2022 15:18:42)\n"
     ]
    }
   ],
   "source": [
    "print (f\"Quantidade de chunks: {len(texts)} \")\n",
    "print (\"Preview:\")\n",
    "print (texts[0].page_content)"
   ]
  },
  {
   "cell_type": "code",
   "execution_count": 12,
   "metadata": {},
   "outputs": [
    {
     "name": "stdout",
     "output_type": "stream",
     "text": [
      "page_content='Ministério da Educação' metadata={'source': 'data/PPC_TSI_EaD.pdf', 'page': 0}\n"
     ]
    }
   ],
   "source": [
    "from langchain.text_splitter import RecursiveCharacterTextSplitter\n",
    "\n",
    "text_splitter = RecursiveCharacterTextSplitter(\n",
    "    chunk_size=50,\n",
    "    chunk_overlap=10,\n",
    "    length_function=len,\n",
    ")\n",
    "\n",
    "texts = text_splitter.split_documents(pages)\n",
    "\n",
    "print(texts[0])"
   ]
  },
  {
   "cell_type": "code",
   "execution_count": 13,
   "metadata": {},
   "outputs": [
    {
     "name": "stdout",
     "output_type": "stream",
     "text": [
      "Quantidade de chunks: 14663 \n",
      "Preview:\n",
      "Ministério da Educação\n"
     ]
    }
   ],
   "source": [
    "print (f\"Quantidade de chunks: {len(texts)} \")\n",
    "print (\"Preview:\")\n",
    "print (texts[0].page_content)"
   ]
  },
  {
   "cell_type": "code",
   "execution_count": null,
   "metadata": {},
   "outputs": [],
   "source": []
  }
 ],
 "metadata": {
  "kernelspec": {
   "display_name": "venv",
   "language": "python",
   "name": "python3"
  },
  "language_info": {
   "codemirror_mode": {
    "name": "ipython",
    "version": 3
   },
   "file_extension": ".py",
   "mimetype": "text/x-python",
   "name": "python",
   "nbconvert_exporter": "python",
   "pygments_lexer": "ipython3",
   "version": "3.12.6"
  }
 },
 "nbformat": 4,
 "nbformat_minor": 2
}
