{
 "cells": [
  {
   "cell_type": "markdown",
   "metadata": {},
   "source": [
    "# Utilizando Parserout"
   ]
  },
  {
   "cell_type": "code",
   "execution_count": 1,
   "metadata": {},
   "outputs": [],
   "source": [
    "from langchain_ollama.llms import OllamaLLM\n",
    "from pydantic import BaseModel, Field, field_validator, ValidationError\n",
    "from langchain.prompts import PromptTemplate\n",
    "from langchain.output_parsers import PydanticOutputParser\n",
    "from langchain_core.output_parsers import JsonOutputParser\n",
    "from datetime import datetime\n",
    "import json\n",
    "\n",
    "# ---------------------------------------------\n",
    "# 1. Inicializar o LLM\n",
    "# ---------------------------------------------\n",
    "model = OllamaLLM(model=\"llama3.2:latest\")"
   ]
  },
  {
   "cell_type": "code",
   "execution_count": 6,
   "metadata": {},
   "outputs": [],
   "source": [
    "# ---------------------------------------------\n",
    "# 2. Classe para validação dos dados de ENTRADA\n",
    "# ---------------------------------------------\n",
    "class ComentarioInput(BaseModel):\n",
    "    \"\"\"Valida o comentário antes de enviá-lo ao LLM.\"\"\"\n",
    "    comentario: str = Field(description=\"Texto do comentário.\")\n",
    "    estado: str = Field(\n",
    "        description=\"Estado no Brasil em formato de sigla (ex: SP, RJ).\",\n",
    "        min_length=2, \n",
    "        max_length=2\n",
    "    )\n",
    "    data: str = Field(\n",
    "        description=\"Data do comentário no formato YYYY-MM-DD.\"\n",
    "    )\n",
    "\n",
    "    @field_validator('data')\n",
    "    def validar_data(cls, valor):\n",
    "        try:\n",
    "            datetime.strptime(valor, '%Y-%m-%d')\n",
    "        except ValueError:\n",
    "            raise ValueError(\"A data deve estar no formato YYYY-MM-DD.\")\n",
    "        return valor\n",
    "\n",
    "# ---------------------------------------------\n",
    "# 3. Classe para validação dos dados de SAÍDA\n",
    "# ---------------------------------------------\n",
    "class ComentarioCategorizado(BaseModel):\n",
    "    \"\"\"Valida a resposta do LLM, inclusive a categoria.\"\"\"\n",
    "    comentario: str = Field(description=\"Texto do comentário.\")\n",
    "    estado: str = Field(\n",
    "        description=\"Estado no Brasil em formato de sigla (ex: SP, RJ).\",\n",
    "        min_length=2,\n",
    "        max_length=2\n",
    "    )\n",
    "    data: str = Field(description=\"Data do comentário no formato YYYY-MM-DD.\")\n",
    "    categoria: str = Field(\n",
    "        description=\"Categoria do comentário: positivo, negativo ou neutro.\"\n",
    "    )\n",
    "\n",
    "    @field_validator('categoria')\n",
    "    def validar_categoria(cls, valor):\n",
    "        categorias_validas = [\"positivo\", \"negativo\", \"neutro\"]\n",
    "        if valor not in categorias_validas:\n",
    "            raise ValueError(\n",
    "                f\"Categoria inválida: {valor}. \"\n",
    "                f\"Use uma destas: {categorias_validas}.\"\n",
    "            )\n",
    "        return valor\n",
    "\n",
    "# ---------------------------------------------\n",
    "# 4. Função para gerar comentários de teste\n",
    "# ---------------------------------------------\n",
    "def gerar_comentarios():\n",
    "    \"\"\"Gera comentários fictícios para exemplificar o fluxo.\"\"\"\n",
    "    comentarios = [\n",
    "        {\"comentario\": \"Produto excelente, atendeu todas as expectativas!\", \"estado\": \"SP\", \"data\": \"2024-12-20\"},\n",
    "        {\"comentario\": \"Não gostei do produto, veio com defeito.\", \"estado\": \"RJ\", \"data\": \"2024-12-21\"},\n",
    "        {\"comentario\": \"Entrega rápida e produto bem embalado.\", \"estado\": \"MG\", \"data\": \"2024-12-22\"},\n",
    "        {\"comentario\": \"Achei caro pelo que oferece.\", \"estado\": \"BA\", \"data\": \"2024-12-20\"},\n",
    "        {\"comentario\": \"Atendimento ao cliente foi ótimo.\", \"estado\": \"RS\", \"data\": \"2024-12-21\"},\n",
    "        {\"comentario\": \"Produto chegou quebrado.\", \"estado\": \"PE\", \"data\": \"2024-12-22\"},\n",
    "        {\"comentario\": \"Cumpriu o que prometeu, muito bom!\", \"estado\": \"PR\", \"data\": \"2024-12-20\"},\n",
    "        {\"comentario\": \"Não vale o preço, bem inferior.\", \"estado\": \"CE\", \"data\": \"2024-12-21\"},\n",
    "        {\"comentario\": \"Produto razoável, esperava mais.\", \"estado\": \"GO\", \"data\": \"2024-12-22\"},\n",
    "        {\"comentario\": \"Recomendo, qualidade ótima!\", \"estado\": \"AM\", \"data\": \"2024-12-20\"},\n",
    "        {\"comentario\": \"Não recebi o produto até agora.\", \"estado\": \"SC\", \"data\": \"2024-12-21\"},\n",
    "        {\"comentario\": \"Compra fácil, voltarei a comprar.\", \"estado\": \"ES\", \"data\": \"2024-12-22\"},\n",
    "        {\"comentario\": \"Produto veio diferente do anunciado.\", \"estado\": \"PA\", \"data\": \"2024-12-20\"},\n",
    "        {\"comentario\": \"Entrega super rápida, parabéns!\", \"estado\": \"MT\", \"data\": \"2024-12-21\"},\n",
    "        {\"comentario\": \"Não gostei da embalagem.\", \"estado\": \"AL\", \"data\": \"2024-12-22\"},\n",
    "        {\"comentario\": \"Produto muito bom pelo preço.\", \"estado\": \"MS\", \"data\": \"2024-12-20\"},\n",
    "        {\"comentario\": \"Não recomendo, qualidade baixa.\", \"estado\": \"PI\", \"data\": \"2024-12-21\"},\n",
    "        {\"comentario\": \"Gostei bastante, superou expectativas!\", \"estado\": \"MA\", \"data\": \"2024-12-22\"},\n",
    "        {\"comentario\": \"Produto satisfatório, nada excepcional.\", \"estado\": \"RO\", \"data\": \"2024-12-20\"},\n",
    "        {\"comentario\": \"Péssima experiência, não comprarei de novo.\", \"estado\": \"RR\", \"data\": \"2024-12-21\"}\n",
    "    ]\n",
    "    return comentarios"
   ]
  },
  {
   "cell_type": "code",
   "execution_count": 7,
   "metadata": {},
   "outputs": [],
   "source": [
    "# ---------------------------------------------\n",
    "# 5. Execução principal\n",
    "# ---------------------------------------------\n",
    "\n",
    "# Passo A: Valida os dados de entrada (input)\n",
    "comentarios_crus = gerar_comentarios()\n",
    "comentarios_validos = []\n",
    "for c in comentarios_crus:\n",
    "    try:\n",
    "        coment_input = ComentarioInput(**c)\n",
    "        comentarios_validos.append(coment_input)\n",
    "    except ValidationError as e:\n",
    "        print(f\"Erro de validação no INPUT: {e}\")"
   ]
  },
  {
   "cell_type": "code",
   "execution_count": null,
   "metadata": {},
   "outputs": [
    {
     "name": "stdout",
     "output_type": "stream",
     "text": [
      "Exemplo de prompt gerado:\n",
      "\n",
      "        Você é um sistema de categorização de comentários.\n",
      "        Retorne no formato JSON (incluindo todos os campos recebidos), sem blocos de código ou texto adicional \n",
      "        e adicione a chave 'categoria' como 'positivo', 'negativo' ou 'neutro'.\n",
      "\n",
      "        The output should be formatted as a JSON instance that conforms to the JSON schema below.\n",
      "\n",
      "As an example, for the schema {\"properties\": {\"foo\": {\"title\": \"Foo\", \"description\": \"a list of strings\", \"type\": \"array\", \"items\": {\"type\": \"string\"}}}, \"required\": [\"foo\"]}\n",
      "the object {\"foo\": [\"bar\", \"baz\"]} is a well-formatted instance of the schema. The object {\"properties\": {\"foo\": [\"bar\", \"baz\"]}} is not well-formatted.\n",
      "\n",
      "Here is the output schema:\n",
      "```\n",
      "{\"description\": \"Valida a resposta do LLM, inclusive a categoria.\", \"properties\": {\"comentario\": {\"description\": \"Texto do comentário.\", \"title\": \"Comentario\", \"type\": \"string\"}, \"estado\": {\"description\": \"Estado no Brasil em formato de sigla (ex: SP, RJ).\", \"maxLength\": 2, \"minLength\": 2, \"title\": \"Estado\", \"type\": \"string\"}, \"data\": {\"description\": \"Data do comentário no formato YYYY-MM-DD.\", \"title\": \"Data\", \"type\": \"string\"}, \"categoria\": {\"description\": \"Categoria do comentário: positivo, negativo ou neutro.\", \"title\": \"Categoria\", \"type\": \"string\"}}, \"required\": [\"comentario\", \"estado\", \"data\", \"categoria\"]}\n",
      "```\n",
      "\n",
      "        Comentário: Péssima experiência, não comprarei de novo.\n",
      "        Estado: RR\n",
      "        Data: 2024-12-21\n",
      "    \n",
      "Resultaos: \n",
      "[{'comentario': 'Produto excelente, atendeu todas as expectativas!', 'estado': 'SP', 'data': '2024-12-20', 'categoria': 'positivo'}, {'comentario': 'Não gostei do produto, veio com defeito.', 'estado': 'RJ', 'data': '2024-12-21', 'categoria': 'negativo'}, {'comentario': 'Entrega rápida e produto bem embalado.', 'estado': 'MG', 'data': '2024-12-22', 'categoria': 'positivo'}, {'comentario': 'Achei caro pelo que oferece.', 'estado': 'BA', 'data': '2024-12-20', 'categoria': 'negativo'}, {'comentario': 'Atendimento ao cliente foi ótimo.', 'estado': 'RS', 'data': '2024-12-21', 'categoria': 'positivo'}, {'comentario': 'Produto chegou quebrado.', 'estado': 'PE', 'data': '2024-12-22', 'categoria': 'negativo'}, {'comentario': 'Cumpriu o que prometeu, muito bom!', 'estado': 'PR', 'data': '2024-12-20', 'categoria': 'positivo'}, {'comentario': 'Não vale o preço, bem inferior.', 'estado': 'CE', 'data': '2024-12-21', 'categoria': 'negativo'}, {'comentario': 'Produto razoável, esperava mais.', 'estado': 'GO', 'data': '2024-12-22', 'categoria': 'negativo'}, {'comentario': 'Recomendo, qualidade ótima!', 'estado': 'AM', 'data': '2024-12-20', 'categoria': 'positivo'}, {'comentario': 'Não recebi o produto até agora.', 'estado': 'SC', 'data': '2024-12-21', 'categoria': 'negativo'}, {'comentario': 'Compra fácil, voltarei a comprar.', 'estado': 'ES', 'data': '2024-12-22', 'categoria': 'positivo'}, {'comentario': 'Produto veio diferente do anunciado', 'estado': 'PA', 'data': '2024-12-20', 'categoria': 'negativo'}, {'comentario': 'Entrega super rápida, parabéns!', 'estado': 'MT', 'data': '2024-12-21', 'categoria': 'positivo'}, {'comentario': 'Não gostei da embalagem.', 'estado': 'AL', 'data': '2024-12-22', 'categoria': 'negativo'}, {'comentario': 'Produto muito bom pelo preço.', 'estado': 'MS', 'data': '2024-12-20', 'categoria': 'positivo'}, {'comentario': 'Não recomendo, qualidade baixa.', 'estado': 'PI', 'data': '2024-12-21', 'categoria': 'negativo'}, {'comentario': 'Gostei bastante, superou expectativas!', 'estado': 'MA', 'data': '2024-12-22', 'categoria': 'positivo'}, {'comentario': 'Produto satisfatório, nada excepcional.', 'estado': 'RO', 'data': '2024-12-20', 'categoria': 'neutro'}, {'comentario': 'Péssima experiência, não comprarei de novo.', 'estado': 'RR', 'data': '2024-12-21', 'categoria': 'negativo'}]\n"
     ]
    }
   ],
   "source": [
    "# Passo B: Configura o parser de SAÍDA\n",
    "parser_output = JsonOutputParser(pydantic_object=ComentarioCategorizado)\n",
    "\n",
    "# Passo C: Cria o PromptTemplate, definindo instruções ao LLM\n",
    "template = PromptTemplate(\n",
    "    template=\"\"\"\n",
    "        Você é um sistema de categorização de comentários.\n",
    "        Retorne no formato JSON (incluindo todos os campos recebidos), sem blocos de código ou texto adicional \n",
    "        e adicione a chave 'categoria' como 'positivo', 'negativo' ou 'neutro'.\n",
    "\n",
    "        {format_instructions}\n",
    "\n",
    "        Comentário: {comentario}\n",
    "        Estado: {estado}\n",
    "        Data: {data}\n",
    "    \"\"\",\n",
    "    input_variables=[\"comentario\", \"estado\", \"data\"],\n",
    "    partial_variables={\n",
    "        \"format_instructions\": parser_output.get_format_instructions()\n",
    "    }\n",
    ")\n",
    "\n",
    "# Passo D: Para cada comentário válido, gerar prompt e chamar o LLM\n",
    "resultados = []\n",
    "for comentario in comentarios_validos:\n",
    "    prompt = template.format(\n",
    "        comentario=comentario.comentario,\n",
    "        estado=comentario.estado,\n",
    "        data=comentario.data\n",
    "    )\n",
    "\n",
    "    # Invoca o LLM\n",
    "    resposta_llm = model.invoke(prompt)\n",
    "\n",
    "    # Passo E: Tenta parser da resposta do LLM\n",
    "    try:\n",
    "        categorizado = parser_output.parse(resposta_llm)\n",
    "        resultados.append(categorizado)\n",
    "    except ValidationError as e:\n",
    "        print(f\"Erro de validação no OUTPUT: {e}\")\n",
    "\n",
    "print(f\"Exemplo de prompt gerado:\\n{prompt}\")\n",
    "print(f\"Resultaos: \\n{resultados}\")"
   ]
  },
  {
   "cell_type": "code",
   "execution_count": 10,
   "metadata": {},
   "outputs": [
    {
     "name": "stdout",
     "output_type": "stream",
     "text": [
      "Comentários categorizados salvos em 'comentarios_categorizados.json'.\n"
     ]
    }
   ],
   "source": [
    "# Passo F: Salva os resultados em um arquivo JSON\n",
    "with open(\"comentarios_categorizados.json\", \"w\", encoding=\"utf-8\") as f:\n",
    "    json.dump(resultados, f, indent=4, ensure_ascii=False)\n",
    "\n",
    "print(\"Comentários categorizados salvos em 'comentarios_categorizados.json'.\")"
   ]
  },
  {
   "cell_type": "code",
   "execution_count": 11,
   "metadata": {},
   "outputs": [
    {
     "name": "stdout",
     "output_type": "stream",
     "text": [
      "Resposta da cadeia: {'comentario': 'Produto excelente, atendeu todas as expectativas!', 'estado': 'SP', 'data': '2024-12-20', 'categoria': 'positivo'}\n"
     ]
    }
   ],
   "source": [
    "# Utilizando cadeia de execução\n",
    "chain = template | model | parser_output\n",
    "\n",
    "output = chain.invoke(\n",
    "    {\n",
    "        \"comentario\": comentarios_validos[0].comentario,\n",
    "        \"estado\": comentarios_validos[0].estado,\n",
    "        \"data\": comentarios_validos[0].data\n",
    "    }\n",
    ")\n",
    "\n",
    "print(f\"Resposta da cadeia: {output}\")\n"
   ]
  },
  {
   "cell_type": "code",
   "execution_count": null,
   "metadata": {},
   "outputs": [],
   "source": []
  }
 ],
 "metadata": {
  "kernelspec": {
   "display_name": "venv",
   "language": "python",
   "name": "python3"
  },
  "language_info": {
   "codemirror_mode": {
    "name": "ipython",
    "version": 3
   },
   "file_extension": ".py",
   "mimetype": "text/x-python",
   "name": "python",
   "nbconvert_exporter": "python",
   "pygments_lexer": "ipython3",
   "version": "3.12.6"
  }
 },
 "nbformat": 4,
 "nbformat_minor": 2
}
