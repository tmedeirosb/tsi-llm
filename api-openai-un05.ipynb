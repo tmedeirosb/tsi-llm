{
 "cells": [
  {
   "cell_type": "markdown",
   "metadata": {},
   "source": [
    "# Utilizando api da openai"
   ]
  },
  {
   "cell_type": "code",
   "execution_count": null,
   "metadata": {},
   "outputs": [],
   "source": [
    "import settings\n",
    "\n",
    "api_key = settings.OPENAI_KEY"
   ]
  },
  {
   "cell_type": "code",
   "execution_count": 3,
   "metadata": {},
   "outputs": [],
   "source": [
    "#!pip install openai"
   ]
  },
  {
   "cell_type": "code",
   "execution_count": 2,
   "metadata": {},
   "outputs": [
    {
     "name": "stdout",
     "output_type": "stream",
     "text": [
      "ChatCompletionMessage(content='Olá! As linguagens de programação mais utilizadas podem variar de acordo com o contexto e a fonte de análise, mas algumas das linguagens que frequentemente aparecem nas listas de mais populares incluem:\\n\\n1. **JavaScript**: Muito usada no desenvolvimento web para criar interatividade nas páginas web.\\n2. **Python**: Conhecida por sua simplicidade e legibilidade, é amplamente usada em ciência de dados, machine learning, automação, desenvolvimento web e mais.\\n3. **Java**: Utilizada em desenvolvimento de aplicações corporativas, Android e backend de sistemas.\\n4. **C#**: Usada para desenvolvimento na plataforma .NET da Microsoft e em jogos com o Unity.\\n5. **C++**: Escolhida para desenvolvimento de sistemas, jogos e aplicações que requerem alta performance.\\n6. **PHP**: Comum em desenvolvimento web, especialmente para criar sites dinâmicos e sistemas de gestão de conteúdo como WordPress.\\n7. **TypeScript**: Um superset do JavaScript que adiciona tipagem estática, muito popular em projetos grandes e no desenvolvimento com frameworks como Angular.\\n8. **Ruby**: Conhecida pela simplicidade e produtividade, muito usada com o framework Ruby on Rails.\\n9. **Swift**: Usada para desenvolvimento de aplicativos para iOS e macOS.\\n10. **Go (Golang)**: Destaca-se por seu desempenho e eficiência, usada em sistemas de backend e infraestrutura.\\n\\nEssas linguagens são populares devido à sua eficiência, ampla comunidade e ecossistema de bibliotecas e ferramentas. A escolha da linguagem pode depender muito do tipo de projeto que você está desenvolvendo e da sua familiaridade com a linguagem.', refusal=None, role='assistant', audio=None, function_call=None, tool_calls=None)\n"
     ]
    }
   ],
   "source": [
    "from openai import OpenAI\n",
    "client = OpenAI(api_key=api_key)\n",
    "\n",
    "completion = client.chat.completions.create(\n",
    "  model=\"gpt-4o\",\n",
    "  messages=[\n",
    "    {\"role\": \"system\", \"content\": \"Você é um assistente especialista em programação.\"},\n",
    "    {\"role\": \"user\", \"content\": \"Olá, quais são as linaguens mais utilizadas?\"}\n",
    "  ]\n",
    ")\n",
    "\n",
    "print(completion.choices[0].message)\n"
   ]
  },
  {
   "cell_type": "code",
   "execution_count": null,
   "metadata": {},
   "outputs": [],
   "source": []
  }
 ],
 "metadata": {
  "kernelspec": {
   "display_name": "venv",
   "language": "python",
   "name": "python3"
  },
  "language_info": {
   "codemirror_mode": {
    "name": "ipython",
    "version": 3
   },
   "file_extension": ".py",
   "mimetype": "text/x-python",
   "name": "python",
   "nbconvert_exporter": "python",
   "pygments_lexer": "ipython3",
   "version": "3.12.6"
  }
 },
 "nbformat": 4,
 "nbformat_minor": 2
}
